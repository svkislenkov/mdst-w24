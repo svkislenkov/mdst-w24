{
 "cells": [
  {
   "cell_type": "code",
   "execution_count": 28,
   "metadata": {},
   "outputs": [],
   "source": [
    "import os\n",
    "import numpy as np\n",
    "import torch\n",
    "from torch.utils.data import Dataset, DataLoader\n",
    "from torchvision import transforms\n",
    "from torchvision import models\n",
    "from PIL import Image\n",
    "import torch.nn as nn\n",
    "import torch.optim as optim"
   ]
  },
  {
   "cell_type": "code",
   "execution_count": 29,
   "metadata": {},
   "outputs": [],
   "source": [
    "class FruitsDataset(Dataset):\n",
    "    def __init__(self, root_dir, transform=None):\n",
    "        self.root_dir = root_dir\n",
    "        self.transform = transform\n",
    "        self.image_paths = []\n",
    "        self.labels = []\n",
    "        self.label_to_index = {}\n",
    "\n",
    "        # Load image paths and labels\n",
    "        self._load_data()\n",
    "\n",
    "    def _load_data(self):\n",
    "        for idx, label in enumerate(os.listdir(self.root_dir)):\n",
    "            label_dir = os.path.join(self.root_dir, label)\n",
    "            if os.path.isdir(label_dir):\n",
    "                self.label_to_index[label] = idx  # Map label to index\n",
    "                for image_name in os.listdir(label_dir):\n",
    "                    self.image_paths.append(os.path.join(label_dir, image_name))\n",
    "                    self.labels.append(idx)  # Store index instead of label\n",
    "\n",
    "    def __len__(self):\n",
    "        return len(self.image_paths)\n",
    "\n",
    "    def __getitem__(self, idx):\n",
    "        image_path = self.image_paths[idx]\n",
    "        image = Image.open(image_path).convert('RGB')\n",
    "        label = self.labels[idx]\n",
    "\n",
    "        if self.transform:\n",
    "            image = self.transform(image)\n",
    "\n",
    "        return image, label  "
   ]
  },
  {
   "cell_type": "code",
   "execution_count": 30,
   "metadata": {},
   "outputs": [],
   "source": [
    "data_transforms = transforms.Compose([\n",
    "    transforms.Resize((100, 100)), \n",
    "    transforms.ToTensor(),            \n",
    "    transforms.Normalize(mean=[0.485, 0.456, 0.406], std=[0.229, 0.224, 0.225])  # Normalize\n",
    "])"
   ]
  },
  {
   "cell_type": "code",
   "execution_count": 31,
   "metadata": {},
   "outputs": [],
   "source": [
    "dataset = FruitsDataset(root_dir='/home/clindaru/MDST/project_team/mdst-w24/fruits-360_dataset_100x100/fruits-360/Training', transform=transform)\n",
    "dataloader = DataLoader(dataset, batch_size=32, shuffle=True)"
   ]
  },
  {
   "cell_type": "code",
   "execution_count": 61,
   "metadata": {},
   "outputs": [
    {
     "name": "stdout",
     "output_type": "stream",
     "text": [
      "Epoch [1/10], Loss: 0.2531\n",
      "Epoch [2/10], Loss: 0.0318\n",
      "Epoch [3/10], Loss: 0.0190\n",
      "Epoch [4/10], Loss: 0.0238\n",
      "Epoch [5/10], Loss: 0.0047\n",
      "Epoch [6/10], Loss: 0.0161\n",
      "Epoch [7/10], Loss: 0.0178\n",
      "Epoch [8/10], Loss: 0.0121\n",
      "Epoch [9/10], Loss: 0.0114\n",
      "Epoch [10/10], Loss: 0.0137\n",
      "Finished Training\n"
     ]
    }
   ],
   "source": [
    "\n",
    "# Define a simple CNN model\n",
    "class custom_cnn(nn.Module):\n",
    "    def __init__(self):\n",
    "        super(custom_cnn, self).__init__()\n",
    "        self.conv1 = nn.Conv2d(3, 16, kernel_size=3, stride=1, padding=1)\n",
    "        self.conv2 = nn.Conv2d(16, 32, kernel_size=3, stride=1, padding=1)\n",
    "        self.pool = nn.MaxPool2d(kernel_size=2, stride=2, padding=0)\n",
    "        self.fc1 = nn.Linear(32 * 25 * 25, 128)  # Adjust based on image size\n",
    "        self.fc2 = nn.Linear(128, len(set(dataset.labels)))  # Adjust based on number of classes\n",
    "\n",
    "    def forward(self, x):\n",
    "        x = self.pool(F.relu(self.conv1(x)))\n",
    "        x = self.pool(F.relu(self.conv2(x)))\n",
    "        x = x.view(-1, 32 * 25 * 25)  # Flatten the tensor\n",
    "        x = F.relu(self.fc1(x))\n",
    "        x = self.fc2(x)\n",
    "        return x\n",
    "\n",
    "# Initialize the model, loss function, and optimizer\n",
    "model = custom_cnn()\n",
    "criterion = nn.CrossEntropyLoss()\n",
    "optimizer = optim.Adam(model.parameters(), lr=0.001)\n",
    "\n",
    "# Training loop\n",
    "num_epochs = 10\n",
    "for epoch in range(num_epochs):\n",
    "    running_loss = 0.0\n",
    "    for images, labels in dataloader:\n",
    "        # Zero the parameter gradients\n",
    "        optimizer.zero_grad()\n",
    "\n",
    "        # Forward pass\n",
    "        outputs = model(images)\n",
    "        loss = criterion(outputs, labels)\n",
    "\n",
    "        # Backward pass and optimize\n",
    "        loss.backward()\n",
    "        optimizer.step()\n",
    "\n",
    "        # Print statistics\n",
    "        running_loss += loss.item()\n",
    "    print(f'Epoch [{epoch+1}/{num_epochs}], Loss: {running_loss/len(dataloader):.4f}')\n",
    "\n",
    "print('Finished Training')"
   ]
  },
  {
   "cell_type": "code",
   "execution_count": 62,
   "metadata": {},
   "outputs": [
    {
     "name": "stdout",
     "output_type": "stream",
     "text": [
      "Model saved as 'fruit_classifier.pth'.\n"
     ]
    }
   ],
   "source": [
    "torch.save(model.state_dict(), 'fruit_classifier.pth')\n",
    "print(\"Model saved as 'fruit_classifier.pth'.\")"
   ]
  },
  {
   "cell_type": "code",
   "execution_count": 70,
   "metadata": {},
   "outputs": [],
   "source": [
    "def evaluate_model(model, dataloader):\n",
    "    model.eval()\n",
    "    total = 0\n",
    "    correct = 0\n",
    "    with torch.no_grad():\n",
    "        for images, labels in dataloader:\n",
    "            outputs = model(images)\n",
    "            _, predicted = torch.max(outputs.data, 1)\n",
    "            total += labels.size(0)\n",
    "            correct += (predicted == labels).sum().item()\n",
    "\n",
    "    accuracy = 100 * correct / total\n",
    "    print(f'Accuracy of the model: {accuracy:.2f}%')\n"
   ]
  },
  {
   "cell_type": "code",
   "execution_count": 72,
   "metadata": {},
   "outputs": [],
   "source": [
    "def predict_image(image_path):\n",
    "    # Load and preprocess the image\n",
    "    image = Image.open(image_path).convert('RGB')\n",
    "    image = transform(image)\n",
    "    image = image.unsqueeze(0)  # Add batch dimension\n",
    "\n",
    "    # Make prediction\n",
    "    with torch.no_grad():\n",
    "        output = model(image)\n",
    "        _, predicted = torch.max(output, 1)\n",
    "\n",
    "    return predicted.item()  # Return the predicted class index"
   ]
  },
  {
   "cell_type": "code",
   "execution_count": null,
   "metadata": {},
   "outputs": [
    {
     "name": "stdout",
     "output_type": "stream",
     "text": [
      "The predicted label for the image is: Apple 6\n",
      "The predicted label for the image is: Apple\n"
     ]
    }
   ],
   "source": [
    "test_image_path = '/home/clindaru/MDST/project_team/mdst-w24/fruits-360_dataset_100x100/fruits-360/Training/Apple 6/r1_300_100.jpg'\n",
    "predicted_label_index = predict_image(test_image_path)\n",
    "# Map the predicted index back to the label\n",
    "index_to_label = {v: k for k, v in dataset.label_to_index.items()}\n",
    "predicted_label = index_to_label[predicted_label_index]\n",
    "\n",
    "print(f'The predicted label for the image is: {predicted_label}')\n",
    "\n",
    "fruit_name = predicted_label.split()[0]  \n",
    "\n",
    "print(f'The predicted label for the image is: {fruit_name}')"
   ]
  },
  {
   "cell_type": "code",
   "execution_count": 71,
   "metadata": {},
   "outputs": [
    {
     "name": "stdout",
     "output_type": "stream",
     "text": [
      "Accuracy of the model: 93.56%\n"
     ]
    }
   ],
   "source": [
    "val_dataset = FruitsDataset(root_dir='/home/clindaru/MDST/project_team/mdst-w24/fruits-360_dataset_100x100/fruits-360/Test', transform=transform)\n",
    "val_loader = DataLoader(val_dataset, batch_size=32, shuffle=False)\n",
    "\n",
    "# Evaluate the model\n",
    "evaluate_model(model, val_loader)"
   ]
  },
  {
   "cell_type": "code",
   "execution_count": 121,
   "metadata": {},
   "outputs": [
    {
     "name": "stdout",
     "output_type": "stream",
     "text": [
      "Making request to: https://trackapi.nutritionix.com/v2/search/instant?app_id=304564dd&app_key=9b1e177f6fe51ca7a40c99d97d98395f&ingr=hamburger\n",
      "HTTP error occurred: 400 Client Error: Bad Request for url: https://trackapi.nutritionix.com/v2/search/instant?app_id=304564dd&app_key=9b1e177f6fe51ca7a40c99d97d98395f&ingr=hamburger\n",
      "Response content: {\"message\":\"child \\\"query\\\" fails because [\\\"query\\\" is required]\",\"id\":\"485141e8-ee44-47c9-bc95-879fcb40eaf5\"}\n"
     ]
    }
   ],
   "source": [
    "import requests\n",
    "\n",
    "\n",
    "def fetch_nutrition_data(fruit_name: str) -> dict:\n",
    "    app_id = 'Replace with API ID'  # Replace with your actual API ID\n",
    "    app_key = 'Replace with API Key'  # Replace with your actual API Key\n",
    "    base_url = 'https://trackapi.nutritionix.com/v2/search/instant/'\n",
    "    \n",
    "    # Construct the full URL correctly\n",
    "    url = f'{base_url}?app_id={app_id}&app_key={app_key}&ingr={fruit_name}'\n",
    "    print(f\"Making request to: {url}\")\n",
    "\n",
    "    try:\n",
    "        response = requests.get(url)\n",
    "        response.raise_for_status()  \n",
    "        return response.json()  \n",
    "    except requests.exceptions.HTTPError as http_err:\n",
    "        print(f\"HTTP error occurred: {http_err}\")  \n",
    "        print(f\"Response content: {response.text}\") \n",
    "    except Exception as err:\n",
    "        print(f\"An error occurred: {err}\")\n",
    "\n",
    "    return None  \n",
    "\n",
    "\n",
    "nutrition_info = fetch_nutrition_data(fruit_name)\n"
   ]
  }
 ],
 "metadata": {
  "kernelspec": {
   "display_name": "new_env",
   "language": "python",
   "name": "python3"
  },
  "language_info": {
   "codemirror_mode": {
    "name": "ipython",
    "version": 3
   },
   "file_extension": ".py",
   "mimetype": "text/x-python",
   "name": "python",
   "nbconvert_exporter": "python",
   "pygments_lexer": "ipython3",
   "version": "3.12.8"
  }
 },
 "nbformat": 4,
 "nbformat_minor": 2
}
